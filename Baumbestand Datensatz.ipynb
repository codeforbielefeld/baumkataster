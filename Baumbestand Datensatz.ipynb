{
 "cells": [
  {
   "cell_type": "code",
   "execution_count": 1,
   "id": "6a16539b",
   "metadata": {},
   "outputs": [],
   "source": [
    "import csv\n",
    "import pandas as pd"
   ]
  },
  {
   "cell_type": "markdown",
   "id": "ef964580",
   "metadata": {},
   "source": [
    "**1. Datensatz/Datensätze herunterladen von https://open-data.bielefeld.de/dataset/baumbestand-umweltbetrieb**\n",
    "\n",
    "**2. Daten einlesen:**"
   ]
  },
  {
   "cell_type": "code",
   "execution_count": 3,
   "id": "e9cd5c5a",
   "metadata": {},
   "outputs": [],
   "source": [
    "#Datensatz einlesen\n",
    "\n",
    "data = pd.read_csv(\"einzelbaeume.csv\")"
   ]
  },
  {
   "cell_type": "markdown",
   "id": "2fd28096",
   "metadata": {},
   "source": [
    "**3. Daten anschauen und die Zeilen verstehen:**"
   ]
  },
  {
   "cell_type": "code",
   "execution_count": 8,
   "id": "ba6592c8",
   "metadata": {},
   "outputs": [
    {
     "data": {
      "text/html": [
       "<div>\n",
       "<style scoped>\n",
       "    .dataframe tbody tr th:only-of-type {\n",
       "        vertical-align: middle;\n",
       "    }\n",
       "\n",
       "    .dataframe tbody tr th {\n",
       "        vertical-align: top;\n",
       "    }\n",
       "\n",
       "    .dataframe thead th {\n",
       "        text-align: right;\n",
       "    }\n",
       "</style>\n",
       "<table border=\"1\" class=\"dataframe\">\n",
       "  <thead>\n",
       "    <tr style=\"text-align: right;\">\n",
       "      <th></th>\n",
       "      <th>WKT</th>\n",
       "      <th>oid</th>\n",
       "      <th>baumart_de</th>\n",
       "      <th>baumart_bo</th>\n",
       "      <th>kronendurc</th>\n",
       "      <th>pfle_art_n</th>\n",
       "      <th>pfle_art_b</th>\n",
       "      <th>baumhoehe_</th>\n",
       "      <th>standort_n_output</th>\n",
       "      <th>kronendurc_output</th>\n",
       "    </tr>\n",
       "  </thead>\n",
       "  <tbody>\n",
       "    <tr>\n",
       "      <th>0</th>\n",
       "      <td>POINT (470593.612121582 5762096.01629639)</td>\n",
       "      <td>474232127</td>\n",
       "      <td>Amerikanische Roteiche</td>\n",
       "      <td>Quercus rubra</td>\n",
       "      <td>11.0</td>\n",
       "      <td>1270</td>\n",
       "      <td>Einzelbaum</td>\n",
       "      <td>17.0</td>\n",
       "      <td>21</td>\n",
       "      <td>11</td>\n",
       "    </tr>\n",
       "    <tr>\n",
       "      <th>1</th>\n",
       "      <td>POINT (470595.51550293 5762100.86712646)</td>\n",
       "      <td>474232128</td>\n",
       "      <td>Roßkastanie</td>\n",
       "      <td>Aesculus hippocastanum</td>\n",
       "      <td>8.0</td>\n",
       "      <td>1270</td>\n",
       "      <td>Einzelbaum</td>\n",
       "      <td>14.0</td>\n",
       "      <td>22</td>\n",
       "      <td>8</td>\n",
       "    </tr>\n",
       "    <tr>\n",
       "      <th>2</th>\n",
       "      <td>POINT (470586.536499023 5762103.08892822)</td>\n",
       "      <td>474232129</td>\n",
       "      <td>Stiel-Eiche</td>\n",
       "      <td>Quercus robur</td>\n",
       "      <td>7.0</td>\n",
       "      <td>1270</td>\n",
       "      <td>Einzelbaum</td>\n",
       "      <td>12.0</td>\n",
       "      <td>26</td>\n",
       "      <td>7</td>\n",
       "    </tr>\n",
       "    <tr>\n",
       "      <th>3</th>\n",
       "      <td>POINT (470584.222473145 5762111.97528076)</td>\n",
       "      <td>474232130</td>\n",
       "      <td>Stiel-Eiche</td>\n",
       "      <td>Quercus robur</td>\n",
       "      <td>11.0</td>\n",
       "      <td>1270</td>\n",
       "      <td>Einzelbaum</td>\n",
       "      <td>15.0</td>\n",
       "      <td>28</td>\n",
       "      <td>11</td>\n",
       "    </tr>\n",
       "    <tr>\n",
       "      <th>4</th>\n",
       "      <td>POINT (470576.539306641 5762106.69909668)</td>\n",
       "      <td>474232131</td>\n",
       "      <td>Gemeine Hainbuche</td>\n",
       "      <td>Carpinus betulus</td>\n",
       "      <td>3.0</td>\n",
       "      <td>1270</td>\n",
       "      <td>Einzelbaum</td>\n",
       "      <td>8.0</td>\n",
       "      <td>29</td>\n",
       "      <td>3</td>\n",
       "    </tr>\n",
       "  </tbody>\n",
       "</table>\n",
       "</div>"
      ],
      "text/plain": [
       "                                         WKT        oid  \\\n",
       "0  POINT (470593.612121582 5762096.01629639)  474232127   \n",
       "1   POINT (470595.51550293 5762100.86712646)  474232128   \n",
       "2  POINT (470586.536499023 5762103.08892822)  474232129   \n",
       "3  POINT (470584.222473145 5762111.97528076)  474232130   \n",
       "4  POINT (470576.539306641 5762106.69909668)  474232131   \n",
       "\n",
       "               baumart_de              baumart_bo  kronendurc  pfle_art_n  \\\n",
       "0  Amerikanische Roteiche           Quercus rubra        11.0        1270   \n",
       "1             Roßkastanie  Aesculus hippocastanum         8.0        1270   \n",
       "2             Stiel-Eiche           Quercus robur         7.0        1270   \n",
       "3             Stiel-Eiche           Quercus robur        11.0        1270   \n",
       "4       Gemeine Hainbuche        Carpinus betulus         3.0        1270   \n",
       "\n",
       "   pfle_art_b  baumhoehe_  standort_n_output kronendurc_output  \n",
       "0  Einzelbaum        17.0                 21                11  \n",
       "1  Einzelbaum        14.0                 22                 8  \n",
       "2  Einzelbaum        12.0                 26                 7  \n",
       "3  Einzelbaum        15.0                 28                11  \n",
       "4  Einzelbaum         8.0                 29                 3  "
      ]
     },
     "execution_count": 8,
     "metadata": {},
     "output_type": "execute_result"
    }
   ],
   "source": [
    "data.head()"
   ]
  },
  {
   "cell_type": "markdown",
   "id": "ab94e6f2",
   "metadata": {},
   "source": [
    "**4. Zeilenbennenung anpassen**"
   ]
  },
  {
   "cell_type": "code",
   "execution_count": null,
   "id": "c5085f4a",
   "metadata": {},
   "outputs": [],
   "source": []
  },
  {
   "cell_type": "code",
   "execution_count": null,
   "id": "01de63bf",
   "metadata": {},
   "outputs": [],
   "source": []
  },
  {
   "cell_type": "markdown",
   "id": "0c07c502",
   "metadata": {},
   "source": [
    "**4. Daten verstehen:**\n",
    "\n",
    "Was bedeuten die einzelnen Zeilennamen? (ggf. Name ändern\n",
    "\n",
    "Wie viele Zeilen (Bäume) haben wir überhaupt?\n",
    "\n",
    "Was sind mögliche Fehler in den Daten?"
   ]
  },
  {
   "cell_type": "code",
   "execution_count": null,
   "id": "2ba334d6",
   "metadata": {},
   "outputs": [],
   "source": []
  },
  {
   "cell_type": "code",
   "execution_count": null,
   "id": "427c50b2",
   "metadata": {},
   "outputs": [],
   "source": []
  },
  {
   "cell_type": "code",
   "execution_count": null,
   "id": "3653ee5c",
   "metadata": {},
   "outputs": [],
   "source": []
  },
  {
   "cell_type": "markdown",
   "id": "651acf94",
   "metadata": {},
   "source": [
    "**5. Erste kleine Fragen beantworten:**\n",
    "\n",
    "Wie hoch sind die Bäume durchschnittlich?\n",
    "\n",
    "Wie hoch ist der höchste Baum?\n",
    "\n",
    "Wie niedrig ist der niedrigste Baum?\n",
    "\n",
    "Was ist die häufigste Baumart?\n",
    "\n",
    "Was ist die seltenste Baumart?\n",
    "\n",
    "Wie breit ist durchschnittlich die Baumkrone?\n",
    "\n",
    "Wie breit ist die breiteste Baumkrone?\n",
    "\n",
    "Wie klein ist die kleinste Baumkrone?"
   ]
  },
  {
   "cell_type": "code",
   "execution_count": null,
   "id": "d3f44e8a",
   "metadata": {},
   "outputs": [],
   "source": []
  },
  {
   "cell_type": "code",
   "execution_count": null,
   "id": "687983d8",
   "metadata": {},
   "outputs": [],
   "source": []
  },
  {
   "cell_type": "markdown",
   "id": "e1d41012",
   "metadata": {},
   "source": [
    "**6. Weiterführende Fragen:**\n",
    "\n",
    "Welche Baumart ist im Schnitt am höchsten? Welche am niedrigsten?\n",
    "\n",
    "Hängen Baumhöhe und Kronenbreite zusammen, also ist die Krone breiter, wenn der Baum höher ist?"
   ]
  },
  {
   "cell_type": "code",
   "execution_count": null,
   "id": "8a43c42c",
   "metadata": {},
   "outputs": [],
   "source": []
  },
  {
   "cell_type": "code",
   "execution_count": null,
   "id": "2526c116",
   "metadata": {},
   "outputs": [],
   "source": []
  }
 ],
 "metadata": {
  "kernelspec": {
   "display_name": "Python 3",
   "language": "python",
   "name": "python3"
  },
  "language_info": {
   "codemirror_mode": {
    "name": "ipython",
    "version": 3
   },
   "file_extension": ".py",
   "mimetype": "text/x-python",
   "name": "python",
   "nbconvert_exporter": "python",
   "pygments_lexer": "ipython3",
   "version": "3.8.10"
  }
 },
 "nbformat": 4,
 "nbformat_minor": 5
}
